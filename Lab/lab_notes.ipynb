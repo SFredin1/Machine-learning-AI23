{
 "cells": [
  {
   "cell_type": "markdown",
   "metadata": {},
   "source": [
    "## Introduktion / problemställning\n",
    "- Vilket problem är det som skall lösas?\n",
    "- Teori, beskriva vilka delar av teorin som är relevanta för rapporten. Behöver inte göra några härledningar eller bevis, men skriv ner relevanta formler och definitioner.\n",
    "\n",
    "## Data-analys (EDA)\n",
    "- Beskriv vilka samband som finns i datamängden. Lyft bara fram de som du faktiskt använder. Övrig information behöver inte någon mer utförlig analys i en sådan här kortare rapport.\n",
    "\n",
    "## Modell\n",
    "- Beskriv algoritmer/modell du använt samt vilka (hyper)-parametrar du användt. \n",
    "- Nämn alla modeller som användts, men beskriv i detalj endast den du faktiskt använder i slutändan (den som var bäst).\n",
    "\n",
    "## Resultat\n",
    "- Utvärdera modellen. Du kan jämföra modeller, tex i en tabell. men i löptexten så behöver du bara beskriva den du faktiskt använde i slutändan.\n",
    "- Se till beskriva resultatet både i ord och figur eller python output.\n",
    "\n",
    "## Diskussion\n",
    "- Förklara kortkommanden och/eller begränsningar och resonera kring vad resultatet innebär för problemställningen.\n",
    "\n",
    "## Allmänt\n",
    "- Skriv inte kronologiskt. Skriv som du kännt till resultaten hela tiden, dvs perspektivet är i efterhand och utförandet är i dåtid.\n",
    "- Skriv i löpande form, dvs annan person ska kunna läsa innehållet och förstå vad det handlar om utan tillgång till Lab PM.\n",
    "- Några paragrafer i varje del räcker. Sammantaget skall det inte ta mer än 15min att presentera på hypotetiskt möte med kollegor. Max 5 skärmar information.\n",
    "- Undvik pronomen som 'jag', 'vi', osv. Passiv röst är att föredra.\n",
    "Istället för \"Jag valde en logistisk och en KNN regression\", så skriv \"KNN och logistisk regression valdes\"."
   ]
  },
  {
   "cell_type": "markdown",
   "metadata": {},
   "source": [
    "## Data-analys (EDA)\n",
    "- Beskriv vilka samband som finns i datamängden. Lyft bara fram de som du faktiskt använder. Övrig information behöver inte någon mer utförlig analys i en sådan här kortare rapport."
   ]
  },
  {
   "cell_type": "markdown",
   "metadata": {},
   "source": [
    "## Modell\n",
    "- Beskriv algoritmer/modell du använt samt vilka (hyper)-parametrar du användt. \n",
    "- Nämn alla modeller som användts, men beskriv i detalj endast den du faktiskt använder i slutändan (den som var bäst).\n"
   ]
  },
  {
   "cell_type": "markdown",
   "metadata": {},
   "source": [
    "## Resultat\n",
    "- Utvärdera modellen. Du kan jämföra modeller, tex i en tabell. men i löptexten så behöver du bara beskriva den du faktiskt använde i slutändan.\n",
    "- Se till beskriva resultatet både i ord och figur eller python output.\n"
   ]
  },
  {
   "cell_type": "markdown",
   "metadata": {},
   "source": [
    "## Diskussion\n",
    "- Förklara kortkommanden och/eller begränsningar och resonera kring vad resultatet innebär för problemställningen."
   ]
  },
  {
   "cell_type": "markdown",
   "metadata": {},
   "source": [
    "## Allmänt\n",
    "- Skriv inte kronologiskt. Skriv som du kännt till resultaten hela tiden, dvs perspektivet är i efterhand och utförandet är i dåtid.\n",
    "- Skriv i löpande form, dvs annan person ska kunna läsa innehållet och förstå vad det handlar om utan tillgång till Lab PM.\n",
    "- Några paragrafer i varje del räcker. Sammantaget skall det inte ta mer än 15min att presentera på hypotetiskt möte med kollegor. Max 5 skärmar information.\n",
    "- Undvik pronomen som 'jag', 'vi', osv. Passiv röst är att föredra.\n",
    "Istället för \"Jag valde en logistisk och en KNN regression\", så skriv \"KNN och logistisk regression valdes\"."
   ]
  },
  {
   "cell_type": "code",
   "execution_count": null,
   "metadata": {},
   "outputs": [],
   "source": []
  }
 ],
 "metadata": {
  "language_info": {
   "name": "python"
  }
 },
 "nbformat": 4,
 "nbformat_minor": 2
}
