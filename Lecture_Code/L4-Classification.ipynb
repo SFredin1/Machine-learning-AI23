{
 "cells": [
  {
   "cell_type": "markdown",
   "metadata": {},
   "source": [
    "Vi har sett ett enkelt exempel på klassifikation, i exemplet med färger som torkar:"
   ]
  },
  {
   "cell_type": "code",
   "execution_count": 930,
   "metadata": {},
   "outputs": [
    {
     "data": {
      "text/html": [
       "<div>\n",
       "<style scoped>\n",
       "    .dataframe tbody tr th:only-of-type {\n",
       "        vertical-align: middle;\n",
       "    }\n",
       "\n",
       "    .dataframe tbody tr th {\n",
       "        vertical-align: top;\n",
       "    }\n",
       "\n",
       "    .dataframe thead th {\n",
       "        text-align: right;\n",
       "    }\n",
       "</style>\n",
       "<table border=\"1\" class=\"dataframe\">\n",
       "  <thead>\n",
       "    <tr style=\"text-align: right;\">\n",
       "      <th></th>\n",
       "      <th>Relative humidity (%)</th>\n",
       "      <th>type</th>\n",
       "      <th>Evaporation (% wt)</th>\n",
       "    </tr>\n",
       "  </thead>\n",
       "  <tbody>\n",
       "    <tr>\n",
       "      <th>0</th>\n",
       "      <td>35.3</td>\n",
       "      <td>1</td>\n",
       "      <td>11.2</td>\n",
       "    </tr>\n",
       "    <tr>\n",
       "      <th>1</th>\n",
       "      <td>29.6</td>\n",
       "      <td>1</td>\n",
       "      <td>11.0</td>\n",
       "    </tr>\n",
       "    <tr>\n",
       "      <th>2</th>\n",
       "      <td>31.0</td>\n",
       "      <td>1</td>\n",
       "      <td>12.6</td>\n",
       "    </tr>\n",
       "    <tr>\n",
       "      <th>3</th>\n",
       "      <td>58.0</td>\n",
       "      <td>1</td>\n",
       "      <td>8.3</td>\n",
       "    </tr>\n",
       "    <tr>\n",
       "      <th>4</th>\n",
       "      <td>62.0</td>\n",
       "      <td>1</td>\n",
       "      <td>10.1</td>\n",
       "    </tr>\n",
       "  </tbody>\n",
       "</table>\n",
       "</div>"
      ],
      "text/plain": [
       "   Relative humidity (%)  type  Evaporation (% wt)\n",
       "0                   35.3     1                11.2\n",
       "1                   29.6     1                11.0\n",
       "2                   31.0     1                12.6\n",
       "3                   58.0     1                 8.3\n",
       "4                   62.0     1                10.1"
      ]
     },
     "execution_count": 930,
     "metadata": {},
     "output_type": "execute_result"
    }
   ],
   "source": [
    "import pandas as pd\n",
    "import numpy as np\n",
    "import seaborn as sns\n",
    "import scipy.stats as stats\n",
    "import matplotlib.pyplot as plt\n",
    "\n",
    "df = pd.read_csv(\"../data/paint.csv\")\n",
    "\n",
    "df.head()"
   ]
  },
  {
   "cell_type": "markdown",
   "metadata": {},
   "source": [
    "Kolumnen \"type\" anger två _klasser_ av data, där 0 och 1 indikerar vilken av de två som datan tillhör. Detta är ett exempel på s.k \"labelled data\" och att sätta etiketter på data är en favoritsysselsättning hos praktikanter (eller inte). Det är tyvärr ett måste för s.k. \"supervised learing\" vilket är det vi sysslar med här. Vi måste alltså ha testfall där vi vet utfallet för att kunna träna systemet -- dvs göra regressioner.\n",
    "\n",
    "Det är även ett exempel på \"dummy encoding\". En annan, nästan ekvivalent kodning är \"one-hot coding\". Det skulle se ut så här:\n",
    "\n",
    "| Relative humidity | TypeA | TypeB | Evaporation |\n",
    "| --- | --- | --- | --- |\n",
    "| 35.3 | 1 | 0 | 11.2 |\n",
    "...\n",
    "\n",
    "Då får det inte förekomma en rad där alla indikatorvariablerna är 0 -- det är något sorts basfall som vi inte har definierat i detta exempel. \"One-hot\" fungerar bättre på kvalitativ data som beskriver icke-exklusiva egenskaper där 0 indikerar avsaknad av egenskapen, snarare än hårda avgränsningar. \"Dummy encoding\" fungerar bäst med ömsesidigt exklusiva klasser. I slutändan måste vi tolka vad kodningen betyder; har vi flera regressionslinjer och därmed flera modeller? Vilka indikatorvariabler tillhör vilken modell i så fall?"
   ]
  },
  {
   "cell_type": "code",
   "execution_count": 931,
   "metadata": {},
   "outputs": [
    {
     "name": "stdout",
     "output_type": "stream",
     "text": [
      "Data row 10, False should be: 1.0 , distances: (3.725682895672335, 2.883061925068286)\n",
      "Data row 6, False should be: 1.0 , distances: (3.977730290330465, 2.6690938852690254)\n"
     ]
    },
    {
     "data": {
      "image/png": "[encoded data removed]",
      "text/plain": [
       "<Figure size 640x480 with 1 Axes>"
      ]
     },
     "metadata": {},
     "output_type": "display_data"
    }
   ],
   "source": [
    "from sklearn.linear_model import LinearRegression\n",
    "from sklearn.model_selection import train_test_split\n",
    "\n",
    "X, Y = df.drop(\"Evaporation (% wt)\", axis=\"columns\"), df[\"Evaporation (% wt)\"]\n",
    "\n",
    "\n",
    "X_train, X_test, Y_train, Y_test = train_test_split(X, Y, test_size=0.3, random_state=24)\n",
    "\n",
    "\n",
    "model = LinearRegression()\n",
    "model.fit(X_train, Y_train)\n",
    "\n",
    "# Tolka kategorisk data -- i detta fall två separata linjer!\n",
    "b = model.coef_\n",
    "modA = np.append(model.intercept_ + b[1], b[0])\n",
    "modB = np.append(model.intercept_, b[0])\n",
    "\n",
    "# Uvärdera på test\n",
    "Xr =  X_test.drop(\"type\", axis=\"columns\")\n",
    "Xr.insert(0, \"intercept\", 1)\n",
    "x = Xr[\"Relative humidity (%)\"]\n",
    "\n",
    "# Visa hela mängden med färgkodade datapunkter efter typ\n",
    "splitA = df[df[\"type\"] == 1]\n",
    "splitB = df[df[\"type\"] == 0]\n",
    "splitA, splitB\n",
    "X_A = splitA[\"Relative humidity (%)\"]\n",
    "X_B = splitB[\"Relative humidity (%)\"]\n",
    "Y_A = splitA[\"Evaporation (% wt)\"]\n",
    "Y_B = splitB[\"Evaporation (% wt)\"]\n",
    "plt.scatter(X_A, Y_A, c=\"blue\")\n",
    "plt.scatter(X_B, Y_B, c=\"green\")\n",
    "\n",
    "# plotta våra två regressionslinjer\n",
    "plt.plot(x, Xr @ modA, \"b\")\n",
    "plt.plot(x, Xr @ modB, \"g\")\n",
    "\n",
    "# Gör linjär klassifiering\n",
    "def classify(x, y):\n",
    "    row_x = [1.0, x]\n",
    "    ea_sq = np.square(y - (row_x @ modA))\n",
    "    eb_sq = np.square(y - (row_x @ modB))\n",
    "    return ea_sq < eb_sq\n",
    "\n",
    "Y = Y_test\n",
    "X = X_test[\"Relative humidity (%)\"]\n",
    "T = X_test[\"type\"]\n",
    "correct = True\n",
    "for i, x in enumerate(X):\n",
    "    if(T.iloc[i] != classify(x, Y.iloc[i])):\n",
    "        plt.scatter(x, Y.iloc[i], c=\"red\")\n",
    "        row_x = [1.0, x]\n",
    "        ea_sq = np.square(Y.iloc[i] - (row_x @ modA))\n",
    "        eb_sq = np.square(Y.iloc[i] - (row_x @ modB))\n",
    "        print(f\"Data row {X_test.iloc[i].name}, {classify(x, Y.iloc[i])} should be: {X_test.iloc[i][1]} , distances: {ea_sq, eb_sq}\")\n",
    "        "
   ]
  },
  {
   "cell_type": "markdown",
   "metadata": {},
   "source": [
    "De två felklassifierade punkterna ligger i närheten av mittpunkten mellan regressionslinjerna. De tillhör egentligen den övre linjen, men variansen är så stor att de överlappar med gränsen för den undre linjen.\n",
    "\n",
    "Om vi tänker oss en funktion av avståndet som ger '1' för den övre och '0' för den undre linjen ser grafen ut något i stil med:\n",
    "![image](../assets/heaviside_im1.jpg)"
   ]
  },
  {
   "cell_type": "markdown",
   "metadata": {},
   "source": [
    "Om vi istället är intresserade av en direkt klassifikator behöver vi behandla datan annorlunda.  Vi försöker nu _förutsäga_ \"type\" direkt istället för att räkna på ett avstånd från vår förustsägelse av \"Evaporation\". Alltså skall \"type\" kolumnen nu vara vårt $Y$!\n",
    "\n",
    "Utan att gå på djupet med den just nu så använder vi en _logistisk_ regression, vilket är ett historiskt namn som betyder \"exponentiell\". Särskilt försöker vi göra en fit mot en S-kurva (sigmoid) istället för steg-funktionen ovan.\n",
    "\n"
   ]
  },
  {
   "cell_type": "markdown",
   "metadata": {},
   "source": [
    "Så här ser en sigmoid ut:"
   ]
  },
  {
   "cell_type": "code",
   "execution_count": 932,
   "metadata": {},
   "outputs": [
    {
     "data": {
      "image/png": "[encoded data removed]",
      "text/plain": [
       "<Figure size 640x480 with 1 Axes>"
      ]
     },
     "metadata": {},
     "output_type": "display_data"
    }
   ],
   "source": [
    "logistic_function = lambda x: np.exp(x)/(1+np.exp(x))\n",
    "\n",
    "x = np.linspace(-10, 10)\n",
    "plt.plot(x, logistic_function(x))\n",
    "plt.title(\"Logistic function\"); "
   ]
  },
  {
   "cell_type": "markdown",
   "metadata": {},
   "source": [
    "Det finns mängder av sådana kurvor, men den logistiska funktionen är ett populärt val:\n",
    "\n",
    "\\begin{equation*}\n",
    "f(x) = \\frac{L}{1+e^{-k(x-x_0)}}\n",
    "\\end{equation*}\n",
    "\n",
    "vilket i vårt fall kan skrivas på en enklare form:\n",
    "\n",
    "\n",
    "\\begin{equation*}\n",
    "f(x) = \\frac{e^x}{1+e^{x}}\n",
    "\\end{equation*}\n",
    "\n",
    "eller till och med:\n",
    "\n",
    "\\begin{equation*} \n",
    "p(X) = \\frac{e^{\\beta_0+\\beta_1X}}{1+e^{\\beta_0+\\beta_1X}}\n",
    "\\end{equation*}\n",
    "\n",
    "där $p(X) = P[Y|X]$ dvs sannolikheten är Y är sant givet värdena i X. Det är precis den sannolikheten vi söker! Härldeningen är inte helt enkelt, men det är alltså en normal matematisk härledning och inte något esoteriskt som bestämts experimentellt."
   ]
  },
  {
   "cell_type": "markdown",
   "metadata": {},
   "source": [
    "En logistisk regression använder inte OLS utan en Maximum Likelihood Estimator; i praktiken är det oftast någon sorts iterativ gradient descent, men det finns andra sätt att hitta en MLE. Vi behöver inte bry oss om detaljerna när vi använder sklearn, men vi återkommer till detta med lite mer teori framöver."
   ]
  },
  {
   "cell_type": "markdown",
   "metadata": {},
   "source": [
    "Notera att Y är mellan 0 och 1! Detta är en stor anledning att vi väljer denna funktion. Det måste förstås vara så då vi har att göra med sannolikheter."
   ]
  },
  {
   "cell_type": "markdown",
   "metadata": {},
   "source": [
    "Användningen följer ett mönster som nu borde börja bli bekant:"
   ]
  },
  {
   "cell_type": "code",
   "execution_count": 933,
   "metadata": {},
   "outputs": [
    {
     "name": "stdout",
     "output_type": "stream",
     "text": [
      "Probability of correct prediction:\n",
      "10    0.517042\n",
      "12    0.959038\n",
      "24    0.958394\n",
      "8     0.720223\n",
      "6     0.278443\n",
      "28    0.936680\n",
      "21    0.987853\n",
      "5     0.949521\n",
      "20    0.945449\n",
      "13    0.704151\n",
      "Name: type, dtype: float64\n",
      "Concrete prediction correctness: \n",
      "10    1\n",
      "12    1\n",
      "24    1\n",
      "8     1\n",
      "6     0\n",
      "28    1\n",
      "21    1\n",
      "5     1\n",
      "20    1\n",
      "13    1\n",
      "Name: type, dtype: int64\n"
     ]
    }
   ],
   "source": [
    "from sklearn.preprocessing import StandardScaler\n",
    "from sklearn.linear_model import LogisticRegressionCV\n",
    "\n",
    "# Note that now the categorical data is our Y\n",
    "X, Y = df.drop(\"type\", axis=\"columns\"), df[\"type\"]\n",
    "\n",
    "X_train, X_test, Y_train, Y_test = train_test_split(X, Y, random_state=24, test_size=0.3)\n",
    "# We do need scaling! Try without and you will see much worse results.\n",
    "scaler = StandardScaler()\n",
    "scaled_X_train = scaler.fit_transform(X_train)\n",
    "scaled_X_test = scaler.transform(X_test)\n",
    "\n",
    "#log_reg = LogisticRegression(penalty=None)\n",
    "log_reg = LogisticRegressionCV(penalty='elasticnet', l1_ratios=np.linspace(0,1,10), solver=\"saga\", max_iter=10000)\n",
    "log_reg.fit(scaled_X_train, Y_train)\n",
    "\n",
    "Y_hat = log_reg.predict_proba(scaled_X_test)\n",
    "print(f\"Probability of correct prediction:\\n{(Y_test - Y_hat[:,0]).round(6).abs()}\")\n",
    "print(f\"Concrete prediction correctness: \\n{1 - (Y_test - log_reg.predict(scaled_X_test))}\")"
   ]
  },
  {
   "cell_type": "markdown",
   "metadata": {},
   "source": [
    "Notera att det på inget sätt är garanterat att logistisk regression är bättre än linjär i det här fallet. Vi kan stuva om lite i värdena så att den linjära versionen gör bättre ifrån sig än den logistiska. Det är i detta fall verkligen två linjärt separerade klasser. En fördel med den logistiska klassifikatorn är att vi får en idé om hur säker förutsägelsen är i och med predict_proba(). I allmänhet är det en god idé att välja modeller och tekniker som stödjer de tester och statistikor vi är intresserade av."
   ]
  }
 ],
 "metadata": {
  "kernelspec": {
   "display_name": "Python 3",
   "language": "python",
   "name": "python3"
  },
  "language_info": {
   "codemirror_mode": {
    "name": "ipython",
    "version": 3
   },
   "file_extension": ".py",
   "mimetype": "text/x-python",
   "name": "python",
   "nbconvert_exporter": "python",
   "pygments_lexer": "ipython3",
   "version": "3.11.2"
  }
 },
 "nbformat": 4,
 "nbformat_minor": 2
}
