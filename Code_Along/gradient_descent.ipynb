{
 "cells": [
  {
   "cell_type": "markdown",
   "metadata": {},
   "source": [
    "## Gradient descent\n",
    "- Grundidé: ta ett \"litet\" steg i en \"bra\" riktning för att nå minimum\n",
    "* **Iterativa funktioner**\n",
    "- Xn+1 = \n",
    "- Basfall X0 = a\n",
    "* **Differens ekvation:**\n",
    "- Iterear över tid\n",
    "* **Differensial ekvation**\n",
    "- \"Iteration\" (integration) över kontinuerlig tid\n",
    "* **Logistisk ekvation** (iterativ)\n",
    "- Xn+1 = r(1-Xn)/X0 = 0.5 =(ungefär) !2\n",
    "* **OLS*\n",
    "- C(B) = MSE\n",
    "* **Ridge*\n",
    "- C(B) = MSE(lambda)+ eps_i=1p * Bi**2\n",
    "* **GD*\n",
    "- C(/0) = 1/n-k-1 eps_i=1n(yi-^yi)** 2 = 1/n-k-1 eps_i=1n(yi - /0*xi)**2\n",
    "- Som iterativ (rekurent) funktion:\n",
    "* /0i+1 = /0i - n gradient C(/0)\n",
    "* /0j+1 = /0-n (2/n-k-1 * X^t (|X/0j - |y))\n",
    "- (f(x) = 1 e f(x-1))\n",
    "- (f(a) = 0)\n",
    "- (f(x) = 1 + fn(x-1))\n",
    "* **Batch* <-> stickprov (i stat = sample)\n",
    "* **Sample* <-> datapunkt (i stat = datapoint)\n",
    "* **Batch Gradient Descent**\n",
    "- Tenderar att fastna i lokala min.\n",
    "* **Stochastic Gradient Descent (SGD)**\n",
    "- Välj en slumpmässig datapunkt.\n",
    "- Räkna gradient på den punkten.\n",
    "- Upprepa givet antal gånger, n = hur stora steg tar vi.\n",
    "- -> ger en \"EPOK\" (EPOCH) (k)\n",
    "- Konvergerar ej!\n",
    "* **Mini Batch**\n",
    "- Välj delmängd av punkter och räkna gradient.\n",
    "- annars som SGD.\n",
    "* **Gradient Descent with Momentum (ADAM i sklearn)**\n",
    "- Xk+1 = Xk - SZk,  Xk+1 = Xk - n*gradientfk\n",
    "- Zk = gradient fk + BZk-1 (k=EPOK)"
   ]
  }
 ],
 "metadata": {
  "kernelspec": {
   "display_name": ".venv",
   "language": "python",
   "name": "python3"
  },
  "language_info": {
   "codemirror_mode": {
    "name": "ipython",
    "version": 3
   },
   "file_extension": ".py",
   "mimetype": "text/x-python",
   "name": "python",
   "nbconvert_exporter": "python",
   "pygments_lexer": "ipython3",
   "version": "3.11.5"
  }
 },
 "nbformat": 4,
 "nbformat_minor": 2
}
