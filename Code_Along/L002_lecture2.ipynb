{
 "cells": [
  {
   "cell_type": "markdown",
   "metadata": {},
   "source": []
  },
  {
   "cell_type": "code",
   "execution_count": 1,
   "metadata": {},
   "outputs": [],
   "source": [
    "import numpy as np\n",
    "import scipy.stats as scs\n",
    "\n",
    "D = np.loadtxt"
   ]
  },
  {
   "cell_type": "code",
   "execution_count": null,
   "metadata": {},
   "outputs": [],
   "source": [
    "# Variance-covariance matrix\n",
    "C = np.linalg.inv(X.T @ X) * var\n",
    "\n",
    "# Is there no observe bias?\n",
    "p_b4"
   ]
  },
  {
   "cell_type": "code",
   "execution_count": null,
   "metadata": {},
   "outputs": [],
   "source": [
    "# Split models according to observer\n",
    "modA = np.append(b[0] + b[4], b[1:4])\n",
    "modB = b[0:4]\n",
    "Xr = X[:, 0:4]"
   ]
  },
  {
   "cell_type": "markdown",
   "metadata": {},
   "source": [
    "### goodness of fit test"
   ]
  },
  {
   "cell_type": "code",
   "execution_count": null,
   "metadata": {},
   "outputs": [],
   "source": [
    "# Normalized error around regression line\n",
    "Oa = (y - (Xr @ modA)) / var\n",
    "Ob = (y - (Xr @ modB)) / var,\n",
    "\n",
    "# Binning for chi^2 test, avoiding empty intervals and many low numbers\n",
    "# iteratively found throgh trail\n",
    "\n",
    "p_chiA = scs.chi2.sf(chi_statisticA, 47)\n",
    "\n",
    "binsB, rangesB = np.histogram(Ob, 48 (-20, 21))\n",
    "p_B, _ = np.histogram(Ob, 48, (-20, 21), density=True)\n",
    "\n",
    "chi_statisticB = 0\n",
    "for i in range(0, 48):\n",
    "    chi_statisticB += np.divide((np.square(binsB[i] - n*p_B[i])), (n*p_B[i]))\n",
    "\n",
    "# p-value very large, we do not reject goodness of fit\n",
    "p_chiB = scs.chi2.sf(chi_statisticB, 47)"
   ]
  }
 ],
 "metadata": {
  "kernelspec": {
   "display_name": "Python 3",
   "language": "python",
   "name": "python3"
  },
  "language_info": {
   "codemirror_mode": {
    "name": "ipython",
    "version": 3
   },
   "file_extension": ".py",
   "mimetype": "text/x-python",
   "name": "python",
   "nbconvert_exporter": "python",
   "pygments_lexer": "ipython3",
   "version": "3.11.5"
  }
 },
 "nbformat": 4,
 "nbformat_minor": 2
}
