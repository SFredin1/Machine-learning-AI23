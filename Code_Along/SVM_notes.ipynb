{
 "cells": [
  {
   "cell_type": "markdown",
   "metadata": {},
   "source": [
    "## SVM (support vector machines)\n",
    "* Grundidé: hyperplan för att separera klasser.\n",
    "* Skulle kunna göra feature expansion.\n",
    "* **Kerneltrick**\n",
    "* Hyperplan har vi redan sett men inte namngivit.\n",
    "* Om B0 = 0 ingår origo, annars inte.\n",
    "* **Avstånd punkt/plan.** \n",
    "* P0 = (x0, y0, z0)\n",
    "* A = (p, q, r)\n",
    "* |QP| = |(x0 - p)a + (y0 - q)b + (z0 - r)c| / roten ur a2 + b2 + c2\n",
    "* **Maximal margin (classifier)**\n",
    "* Använd en soft margin, om marginalen måste vara tom blir metoden känslig för brus (outliers).\n",
    "* **Kernel**\n",
    "- Matris med \"vikter\", används mkt i neurala nätverk och bildnätverk.\n",
    "- u * n = (similarity measure/likhetsmått)\n",
    "- f(x)=B0+∑i=1n α i <x1,x i >\n",
    "* **Kernel funktioner**\n",
    "- <u|, v|> = u| * v| (euclidiskt)\n",
    "- Beräknar inre produkter för d-dimensionella polynom, motsvarar polynom expansion.\n",
    "- RBF (radial basis function) gamma >> o liten sigma^2, gamma << 1, stor sigma^2 (mjuka linjer), (gamma => hyperparameter.)\n",
    "* **Multinomiella klasser**\n",
    "- ova: one-versus-all (dyrare att använda än ovo)\n",
    "- ovo: one-versus-one\n",
    "* Kan bli dyrt för stora datamängder (dvs gigabyte+)"
   ]
  }
 ],
 "metadata": {
  "kernelspec": {
   "display_name": ".venv",
   "language": "python",
   "name": "python3"
  },
  "language_info": {
   "codemirror_mode": {
    "name": "ipython",
    "version": 3
   },
   "file_extension": ".py",
   "mimetype": "text/x-python",
   "name": "python",
   "nbconvert_exporter": "python",
   "pygments_lexer": "ipython3",
   "version": "3.11.5"
  }
 },
 "nbformat": 4,
 "nbformat_minor": 2
}
